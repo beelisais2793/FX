{
 "cells": [
  {
   "cell_type": "markdown",
   "metadata": {},
   "source": [
    "# Using `pyoscode` in cosmology\n",
    "\n",
    "`pyoscode` is a fast numerical routine suitable for equations of the form \n",
    "\n",
    "$$ \\ddot{x} + 2\\gamma(t)\\dot{x} + \\omega^2(t) = 0, $$\n",
    "with\n",
    "\n",
    "- $x(t)$: a scalar variable (e.g. curvature perturbation),\n",
    "- $\\omega(t)$: frequency,\n",
    "- $\\gamma(t)$: friction or first-derivative term.\n",
    "\n",
    "In general $\\gamma$, $\\omega$ may not be explicit functions of time, and `pyoscode` can deal with them given as\n",
    "\n",
    "- _in Python_: `numpy.array`s\n",
    "- _in C++_: `array`s, `list`s, `std::vector`s, `Eigen::Vector`s, or functions.\n",
    "\n",
    "Below we'll look at examples using the _Python_ interface, but first, let's look at the short summary of the relevant cosmology.\n",
    "\n",
    "## Cosmology\n",
    "\n",
    "We wish to calculate the primordial power spectrum of scalar perturbations in a universe with some spatial curvature. This involves \n",
    "1. computing the isotropic, expanding \"background\" evolution,\n",
    "2. then solving the equation of motion of the perturbations of varying lengthscales.\n",
    "\n",
    "### Background evolution\n",
    "\n",
    "The relevant equations are the Friedmann equations and the continuity equation. They can be cast into the following form:\n",
    "\n",
    "$$ \\frac{d\\ln{\\Omega_k}}{dN} = 4 + \\Omega_k\\big(4K - 2a^2V(\\phi)\\big), $$\n",
    "\n",
    "$$ \\Big(\\frac{d\\phi}{dN}\\Big)^2 = 6 + \\Omega_k\\big(6K - 2a^2V(\\phi)\\big). $$\n",
    "\n",
    "with \n",
    "\n",
    "- $a$: scale factor of the universe\n",
    "- $H$: Hubble parameter\n",
    "- $N = \\ln{a}$: number of e-folds, **the independent variable**\n",
    "- $ \\Omega_k = \\frac{1}{(aH)^2}$, curvature density\n",
    "- $K$: spatial curvature, $0, \\pm1$ for flat, closed, and open universes\n",
    "- $\\phi$: inflaton field\n",
    "- $ V$: inflationary potential\n",
    "\n",
    "### Evolution of the perturbations\n",
    "\n",
    "The equation of motion of the perturbations is given by the Mukhanov--Sasaki equation. It takes the form of a generalised oscillator, with frequency and damping terms given by (when written in terms of $N$):\n",
    "\n",
    "$$ \\omega^2 = \\Omega_k\\Bigg( (k_2 - K) - \\frac{2Kk_2}{EK +k_2}\\frac{\\dot{E}}{E}\\Bigg), $$\n",
    "$$ 2\\gamma = K\\Omega_k + 3 - E + \\frac{k_2}{EK + k_2}\\frac{\\dot{E}}{E}, $$\n",
    "\n",
    "with \n",
    "\n",
    "- $E = \\frac{1}{2}\\dot{\\phi}^2$ (overdot is differentiation wrt $N$)\n",
    "- $k_2 = k(k+2) - 3K$ if $K > 0$, and $k_2 = k^2 - 3K$ otherwise."
   ]
  },
  {
   "cell_type": "markdown",
   "metadata": {},
   "source": [
    "# Code\n",
    "\n",
    "## A flat universe"
   ]
  },
  {
   "cell_type": "code",
   "execution_count": 1,
   "metadata": {},
   "outputs": [],
   "source": [
    "import pyoscode\n",
    "import numpy as np\n",
    "import matplotlib.pyplot as plt\n",
    "from scipy.optimize import root_scalar\n",
    "from scipy.integrate import solve_ivp"
   ]
  },
  {
   "cell_type": "markdown",
   "metadata": {},
   "source": [
    "cosmological parameters:\n",
    "\n",
    "- $m$: inflaton mass\n",
    "- $mp$: Planck mass\n",
    "- $nv$: exponent in inflationary potential\n",
    "- $K$: curvature, $\\pm1$, 0"
   ]
  },
  {
   "cell_type": "code",
   "execution_count": 2,
   "metadata": {},
   "outputs": [],
   "source": [
    "m = 1\n",
    "mp = 1\n",
    "nv = 2 \n",
    "K = 0"
   ]
  },
  {
   "cell_type": "markdown",
   "metadata": {},
   "source": [
    "Define the inflationary potential, its derivative, and the background equations. Also define initial conditions for the perturbations such that they start from the _Bunch-Davies_ vacuum."
   ]
  },
  {
   "cell_type": "code",
   "execution_count": 3,
   "metadata": {},
   "outputs": [],
   "source": [
    "def V(phi):\n",
    "    \"\"\" inflationary potential\"\"\"\n",
    "    return 0.5*m**2*phi**nv\n",
    "\n",
    "def dV(phi):\n",
    "    \"\"\" derivative of the inflationary potential \"\"\"\n",
    "    return 0.5*nv*m**2*phi**(nv-1)\n",
    "\n",
    "def bgeqs(t, y):\n",
    "    \"\"\" System of equations describing the evolution of the cosmological\n",
    "    background \"\"\"\n",
    "    dy = np.zeros(y.shape)\n",
    "    dy[0] = 4.0 + np.exp(y[0])*(4.0*K - 2.0*np.exp(2.0*t)*V(y[1]))\n",
    "    dy[1] = - np.sqrt(6.0 + np.exp(y[0])*(6.0*K -\n",
    "    2.0*np.exp(2.0*t)*V(y[1])))\n",
    "    return dy\n",
    "\n",
    "def endinfl(t, y):\n",
    "    \"\"\" Crosses zero when inflation ends \"\"\"\n",
    "    dphi = bgeqs(t,y)[1]\n",
    "    epsilon = 0.5*dphi**2\n",
    "    return epsilon - 1.\n",
    "\n",
    "def bdic(k, phi, dphi, ddphi, N):\n",
    "    \"\"\" Defines the Bunch-Davies vacuum solution\n",
    "    for a given perturbation mode \"\"\"\n",
    "    a0 = np.exp(N)\n",
    "    dz_z = ddphi/dphi + 1.\n",
    "    z = a0*dphi\n",
    "    R = 1./(np.sqrt(2.*k)*z) + 1j*0\n",
    "    dR = - R*dz_z - np.sqrt(k/2.*ok_i)/z*1j\n",
    "    return R,dR\n",
    "\n",
    "def pps(k, rk1, rk2, x01, dx01, x02, dx02, x0, dx0):\n",
    "    \"\"\" Enforces x,dx as initial conditions by linear\n",
    "    combination of two solutions rk1 and rk2, which had\n",
    "    initial conditions x01, dx01 and x02, dx02 \"\"\"\n",
    "    a = (x0*dx02 - dx0*x02)/(x01*dx02 - dx01*x02)\n",
    "    b = (x0*dx01 - dx0*x01)/(x02*dx01 - dx02*x01)\n",
    "    power = np.abs(a*rk1 + b*rk2)**2*k**3/(2*np.pi**2)\n",
    "    return power"
   ]
  },
  {
   "cell_type": "markdown",
   "metadata": {},
   "source": [
    "Now solve the background with the help of `scipy.integrate`"
   ]
  },
  {
   "cell_type": "code",
   "execution_count": 36,
   "metadata": {},
   "outputs": [],
   "source": [
    "# \\Omega_k and N at the start of inflation fully\n",
    "# parametrise the background.\n",
    "ok_i = 2.1e-3\n",
    "N_i = 1.\n",
    "# Nominal end point of integration (we'll stop at the end of inflation)\n",
    "N_f = 80.\n",
    "# Points at which we'll obtain the background solution\n",
    "Nbg = 10000 # This determines grid fineness, see note below.\n",
    "N = np.linspace(N_i,N_f,Nbg)\n",
    "# Initial conditions\n",
    "phi_i = np.sqrt(4.*(1./ok_i + K)*np.exp(-2.0*N_i)/m**2)\n",
    "logok_i = np.log(ok_i)\n",
    "y_i = np.array([logok_i, phi_i])\n",
    "# Solve for the background until the end of inflation\n",
    "endinfl.terminal = True\n",
    "endinfl.direction = 1\n",
    "bgsol = solve_ivp(bgeqs, (N_i,N_f), y_i, events=endinfl, t_eval=N, rtol=1e-8, atol=1e-10)"
   ]
  },
  {
   "cell_type": "markdown",
   "metadata": {},
   "source": [
    "**Note:** the most important parameter from a numerical perspective is $N_{\\mathrm{bg}}$. This determines the fineness of the grid on which $\\omega$ and $\\gamma$ are defined. The speed of the method depends on how precisely numerical derivatives and integrals of $\\omega$, $\\gamma$ can be computed. If you experience slow-down, it is very likely that this grid was not fine enough. \n",
    "\n",
    "The number of e-folds of inflation we got from this setup is"
   ]
  },
  {
   "cell_type": "code",
   "execution_count": 5,
   "metadata": {},
   "outputs": [
    {
     "data": {
      "text/plain": [
       "61.096795417950304"
      ]
     },
     "execution_count": 5,
     "metadata": {},
     "output_type": "execute_result"
    }
   ],
   "source": [
    "bgsol.t_events[0][0]-N_i"
   ]
  },
  {
   "cell_type": "markdown",
   "metadata": {},
   "source": [
    "We're now ready to define the equation of motion of the perturbations. `pyoscode` takes the frequency and the damping term of the oscillator as `numpy.array`s."
   ]
  },
  {
   "cell_type": "code",
   "execution_count": 6,
   "metadata": {},
   "outputs": [],
   "source": [
    "logok = bgsol.y[0]\n",
    "phi = bgsol.y[1]\n",
    "N = bgsol.t\n",
    "dphi = np.array([-np.sqrt(6.0 + np.exp(Logok)*(6.0*K -\n",
    "    2.0*np.exp(2.0*t)*V(Phi))) for Logok,Phi,t in zip(logok,phi,N) ])\n",
    "dlogok = np.array([4.0 + np.exp(Logok)*(4.0*K - 2.0*np.exp(2.0*t)*V(Phi)) for Logok,Phi,t in zip(logok,phi,N) ])\n",
    "dE_E = dlogok - 4. -2.*dV(phi)*np.exp(logok)*np.exp(2.*N)/dphi\n",
    "E = 0.5*dphi**2\n",
    "# Damping term\n",
    "g = 0.5*(3 - E + dE_E)\n",
    "# frequency\n",
    "logw = 0.5*logok"
   ]
  },
  {
   "cell_type": "markdown",
   "metadata": {},
   "source": [
    "Now we wish solve the Mukhanov--Sasaki equation in a loop, iterating over increasing values of $k$. We need to determine the range of integration for each: we'll start at a fixed $N$, and integrate until the mode is \"well outside the Hubble horizon\", $k < (aH)/100$."
   ]
  },
  {
   "cell_type": "code",
   "execution_count": 7,
   "metadata": {
    "scrolled": false
   },
   "outputs": [],
   "source": [
    "# range of wavevectors\n",
    "ks = np.logspace(0,4,1000)\n",
    "end = np.zeros_like(ks,dtype=int)\n",
    "endindex = 0\n",
    "for i in range(len(ks)):\n",
    "    for j in range(endindex,Nbg):\n",
    "        if np.exp(-0.5*logok[j])/ks[i] > 100:\n",
    "            end[i] = j\n",
    "            endindex = j\n",
    "            break"
   ]
  },
  {
   "cell_type": "markdown",
   "metadata": {},
   "source": [
    "We're now ready to solve the Mukhanov-Sasaki equation in a loop and generate a primordial power spectrum."
   ]
  },
  {
   "cell_type": "code",
   "execution_count": 10,
   "metadata": {},
   "outputs": [],
   "source": [
    "spectrum = np.zeros_like(ks,dtype=complex)\n",
    "for i,k in enumerate(ks):\n",
    "    # Bunch-Davies i.c.\n",
    "    phi_0 = phi[0]\n",
    "    dphi_0 = dphi[0]\n",
    "    ddphi_0 = 0.5*dE_E[0]*dphi_0\n",
    "    N_0 = N_i\n",
    "    x0, dx0 = bdic(k, phi_0, dphi_0, ddphi_0, N_0)\n",
    "    x01 = 1.0\n",
    "    dx01 = 0.0\n",
    "    x02 = 0.0\n",
    "    dx02 = 1.0\n",
    "    # Linearly indep. solutions\n",
    "    sol1 = pyoscode.solve(N,logw+np.log(k),g,N_i,N[end[i]],x01,dx01,logw=True)\n",
    "    sol2 = pyoscode.solve(N,logw+np.log(k),g,N_i,N[end[i]],x02,dx02,logw=True)\n",
    "    rk1 = sol1[\"sol\"][-1]\n",
    "    rk2 = sol2[\"sol\"][-1]\n",
    "    spectrum[i] = pps(k, rk1, rk2, x01, dx01, x02, dx02, x0, dx0)"
   ]
  },
  {
   "cell_type": "markdown",
   "metadata": {},
   "source": [
    "Plot the resulting spectrum:"
   ]
  },
  {
   "cell_type": "code",
   "execution_count": 11,
   "metadata": {},
   "outputs": [
    {
     "data": {
      "image/png": "[encoded data removed]",
      "text/plain": [
       "<Figure size 432x288 with 1 Axes>"
      ]
     },
     "metadata": {
      "needs_background": "light"
     },
     "output_type": "display_data"
    }
   ],
   "source": [
    "plt.loglog(ks, spectrum)\n",
    "plt.xlabel('comoving $k$')\n",
    "plt.ylabel('$m^2 \\\\times P_{\\mathcal{R}}(k)$')\n",
    "plt.show()"
   ]
  },
  {
   "cell_type": "code",
   "execution_count": 12,
   "metadata": {},
   "outputs": [
    {
     "data": {
      "image/png": "[encoded data removed]",
      "text/plain": [
       "<Figure size 432x288 with 1 Axes>"
      ]
     },
     "metadata": {
      "needs_background": "light"
     },
     "output_type": "display_data"
    }
   ],
   "source": [
    "plt.loglog(ks, spectrum)\n",
    "plt.xlabel('comoving $k$')\n",
    "plt.ylabel('$m^2 \\\\times P_{\\mathcal{R}}(k)$')\n",
    "plt.xlim((3e1,1e4))\n",
    "plt.ylim((40,80))\n",
    "plt.show()"
   ]
  },
  {
   "cell_type": "markdown",
   "metadata": {},
   "source": [
    "## A closed universe"
   ]
  },
  {
   "cell_type": "markdown",
   "metadata": {
    "collapsed": true
   },
   "source": [
    "All we have to do differently is:\n",
    "\n",
    "1. solve the background equations again with $K=1$,"
   ]
  },
  {
   "cell_type": "code",
   "execution_count": 37,
   "metadata": {},
   "outputs": [],
   "source": [
    "K = 1\n",
    "N_i = -1.74\n",
    "ok_i = 1.0\n",
    "N = np.linspace(N_i,N_f,Nbg)\n",
    "# Initial conditions\n",
    "phi_i = np.sqrt(4.*(1./ok_i + K)*np.exp(-2.0*N_i)/m**2)\n",
    "logok_i = np.log(ok_i)\n",
    "y_i = np.array([logok_i, phi_i])\n",
    "# Solve for the background until the end of inflation\n",
    "endinfl.terminal = True\n",
    "endinfl.direction = 1\n",
    "bgsol = solve_ivp(bgeqs, (N_i,N_f), y_i, events=endinfl, t_eval=N, rtol=1e-8, atol=1e-10)"
   ]
  },
  {
   "cell_type": "markdown",
   "metadata": {},
   "source": [
    "Number of e-folds of inflation now is"
   ]
  },
  {
   "cell_type": "code",
   "execution_count": 38,
   "metadata": {},
   "outputs": [
    {
     "data": {
      "text/plain": [
       "59.97999324176222"
      ]
     },
     "execution_count": 38,
     "metadata": {},
     "output_type": "execute_result"
    }
   ],
   "source": [
    "bgsol.t_events[0][0]-N_i"
   ]
  },
  {
   "cell_type": "markdown",
   "metadata": {},
   "source": [
    "2. Update the arrays storing the cosmological background:"
   ]
  },
  {
   "cell_type": "code",
   "execution_count": 39,
   "metadata": {},
   "outputs": [],
   "source": [
    "logok = bgsol.y[0]\n",
    "phi = bgsol.y[1]\n",
    "N = bgsol.t\n",
    "dphi = np.array([-np.sqrt(6.0 + np.exp(Logok)*(6.0*K -\n",
    "    2.0*np.exp(2.0*t)*V(Phi))) for Logok,Phi,t in zip(logok,phi,N) ])\n",
    "dlogok = np.array([4.0 + np.exp(Logok)*(4.0*K - 2.0*np.exp(2.0*t)*V(Phi)) for Logok,Phi,t in zip(logok,phi,N) ])\n",
    "dE_E = dlogok - 4. -2.*dV(phi)*np.exp(logok)*np.exp(2.*N)/dphi\n",
    "E = 0.5*dphi**2"
   ]
  },
  {
   "cell_type": "markdown",
   "metadata": {},
   "source": [
    "3. Update also the endpoint of integration for each mode:"
   ]
  },
  {
   "cell_type": "code",
   "execution_count": 40,
   "metadata": {},
   "outputs": [],
   "source": [
    "# range of wavevectors\n",
    "ks = np.concatenate((np.linspace(3,100,98), np.logspace(2,4,500)))\n",
    "end = np.zeros_like(ks,dtype=int)\n",
    "endindex = 0\n",
    "for i in range(len(ks)):\n",
    "    for j in range(endindex,Nbg):\n",
    "        if np.exp(-0.5*logok[j])/ks[i] > 100:\n",
    "            end[i] = j\n",
    "            endindex = j\n",
    "            break"
   ]
  },
  {
   "cell_type": "markdown",
   "metadata": {},
   "source": [
    "4. Solve the MS equation for each $k$. The frequency and the damping term now have non-trivial wavevector-dependence, so we'll compute them on the fly for each mode."
   ]
  },
  {
   "cell_type": "code",
   "execution_count": 41,
   "metadata": {},
   "outputs": [],
   "source": [
    "closed_spectrum = np.zeros_like(ks,dtype=complex)\n",
    "for i,k in enumerate(ks):\n",
    "    # Bunch-Davies i.c.\n",
    "    phi_0 = phi[0]\n",
    "    dphi_0 = dphi[0]\n",
    "    ddphi_0 = 0.5*dE_E[0]*dphi_0\n",
    "    N_0 = N_i\n",
    "    x0, dx0 = bdic(k, phi_0, dphi_0, ddphi_0, N_0)\n",
    "    x01 = 1.0\n",
    "    dx01 = 0.0\n",
    "    x02 = 0.0\n",
    "    dx02 = 1.0\n",
    "    # wavenumber \"squared\"\n",
    "    k2 = complex(k*(k+2.)-3*K)\n",
    "    # Damping term\n",
    "    g = 0.5*(K*np.exp(logok) + 3 - E + dE_E*k2/(E*K+k2))\n",
    "    # frequency\n",
    "    logw = 0.5*(logok + np.log(k2 - K - 2.*K*k2*dE_E/(E*K + k2)))\n",
    "    # Linearly indep. solutions\n",
    "    sol1 = pyoscode.solve(N,logw,g,N_i,N[end[i]],x01,dx01,logw=True)\n",
    "    sol2 = pyoscode.solve(N,logw,g,N_i,N[end[i]],x02,dx02,logw=True)\n",
    "    rk1 = sol1[\"sol\"][-1]\n",
    "    rk2 = sol2[\"sol\"][-1]\n",
    "    closed_spectrum[i] = pps(k, rk1, rk2, x01, dx01, x02, dx02, x0, dx0)"
   ]
  },
  {
   "cell_type": "markdown",
   "metadata": {},
   "source": [
    "Plot the resulting spectrum:"
   ]
  },
  {
   "cell_type": "code",
   "execution_count": 42,
   "metadata": {},
   "outputs": [
    {
     "data": {
      "image/png": "[encoded data removed]",
      "text/plain": [
       "<Figure size 432x288 with 1 Axes>"
      ]
     },
     "metadata": {
      "needs_background": "light"
     },
     "output_type": "display_data"
    }
   ],
   "source": [
    "plt.loglog(ks, closed_spectrum)\n",
    "plt.xlabel('comoving $k$')\n",
    "plt.ylabel('$m^2 \\\\times P_{\\mathcal{R}}(k)$')\n",
    "plt.show()"
   ]
  },
  {
   "cell_type": "markdown",
   "metadata": {},
   "source": [
    "Note that in the above spectrum, the jaggedness is due to the fact that the values $k$ takes are quantised (integers only)."
   ]
  }
 ],
 "metadata": {
  "kernelspec": {
   "display_name": "Python 2",
   "language": "python",
   "name": "python2"
  },
  "language_info": {
   "codemirror_mode": {
    "name": "ipython",
    "version": 2
   },
   "file_extension": ".py",
   "mimetype": "text/x-python",
   "name": "python",
   "nbconvert_exporter": "python",
   "pygments_lexer": "ipython2",
   "version": "2.7.15rc1"
  }
 },
 "nbformat": 4,
 "nbformat_minor": 2
}
